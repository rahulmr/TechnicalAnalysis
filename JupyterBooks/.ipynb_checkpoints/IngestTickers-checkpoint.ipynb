{
 "cells": [
  {
   "cell_type": "code",
   "execution_count": 1,
   "metadata": {},
   "outputs": [],
   "source": [
    "\"\"\" Purpose of this program is to load ticker/quote data into a local postgres database, eventually this may\n",
    "be expanded to something like CosmosDB. Added bool columns for S&P, NASDAQ and DOW.\n",
    "\"\"\"\n",
    "import psycopg2\n",
    "import pandas as pd\n",
    "import yahoo_fin.stock_info as si\n",
    "import time"
   ]
  },
  {
   "cell_type": "code",
   "execution_count": 60,
   "metadata": {},
   "outputs": [],
   "source": [
    "conn = psycopg2.connect(\"dbname=StonksGoUp user=postgres host=localhost password=admin\")\n",
    "cur = conn.cursor()\n",
    "data = si.get_data('msft')\n",
    "SQL_stockdata = \"\"\" \n",
    "    CREATE TABLE stockdata (\n",
    "        ticker varchar(5) NOT NULL,\n",
    "        quotedate date NOT NULL,\n",
    "        open numeric NOT NULL,\n",
    "        high numeric NOT NULL,\n",
    "        low numeric NOT NULL,\n",
    "        close numeric NOT NULL,\n",
    "        adjclose numeric NOT NULL,\n",
    "        volume bigint,\n",
    "        CONSTRAINT pk_stockdata PRIMARY KEY (ticker, quotedate)\n",
    ");\n",
    "\"\"\"\n",
    "SQL_tickers = \"\"\"\n",
    "    CREATE TABLE tickers (\n",
    "    ticker varchar(10) NOT NULL,\n",
    "    isdow boolean NOT NULL DEFAULT false,\n",
    "    isnasdaq boolean NOT NULL DEFAULT false,\n",
    "    issp500 boolean NOT NULL DEFAULT false,\n",
    "    createddate timestamp with time zone NOT NULL DEFAULT now(),\n",
    "    CONSTRAINT pk_tickers PRIMARY KEY (ticker)\n",
    "    );\n",
    "\"\"\"\n",
    "# cur.execute(SQL_stockdata, conn)\n",
    "# cur.execute(SQL_tickers, conn)\n",
    "# conn.commit()\n",
    "\n",
    "\n"
   ]
  },
  {
   "cell_type": "code",
   "execution_count": 51,
   "metadata": {},
   "outputs": [],
   "source": [
    "\"\"\"INSERT data into the tickers reference table\"\"\"\n",
    "\n",
    "df_ticker = pd.DataFrame()\n",
    "nasdaq = si.tickers_nasdaq()\n",
    "sp500 = si.tickers_sp500()\n",
    "dow = si.tickers_dow()\n",
    "other = si.tickers_other()\n",
    "\n",
    "tickers = list(set([*nasdaq, *sp500, *dow, *other]))\n",
    "\n",
    "df_ticker['ticker'] = tickers\n",
    "df_ticker.replace(\"\", float(\"NaN\"), inplace=True)\n",
    "df_ticker.dropna(subset = [\"ticker\"], inplace=True)\n",
    "\n",
    "df_ticker['isdow'] = df_ticker['ticker'].isin(dow)\n",
    "df_ticker['issp500'] = df_ticker['ticker'].isin(sp500)\n",
    "df_ticker['isnasdaq'] = df_ticker['ticker'].isin(nasdaq)\n",
    "\n",
    "insert = [list(row) for row in df_ticker.itertuples(index=False)]\n",
    "\n",
    "SQL_Ticker_insert= \"\"\" INSERT INTO public.tickers(ticker,isdow, isnasdaq, issp500) VALUES (%s,%s,%s,%s) ON CONFLICT DO NOTHING\"\"\"\n",
    "cur.executemany(SQL_Ticker_insert, insert)\n",
    "conn.commit()\n",
    "\n",
    "print(f'{cur.rowcount} rows inserted.')"
   ]
  },
  {
   "cell_type": "code",
   "execution_count": 32,
   "metadata": {},
   "outputs": [],
   "source": [
    "\"\"\"INSERT quote data into stockdata table\"\"\"\n",
    "\n",
    "SQL_stockdata_insert = \"\"\"INSERT INTO public.stockdata (quotedate, open, high, low, close, adjclose, volume, ticker)\n",
    "                            VALUES(%s,%s,%s,%s,%s,%s,%s,%s) ON CONFLICT DO NOTHING\"\"\"\n",
    "for ticker in df_ticker['ticker']:\n",
    "    time.sleep(3)\n",
    "    print(ticker)\n",
    "    try: \n",
    "        data = si.get_data(ticker)\n",
    "        insert_data = [list(row) for row in data.itertuples()]\n",
    "        cur.executemany(SQL_stockdata_insert, insert_data)\n",
    "    except: pass\n",
    "    conn.commit()"
   ]
  },
  {
   "cell_type": "code",
   "execution_count": 59,
   "metadata": {},
   "outputs": [],
   "source": [
    "cur.close()\n",
    "conn.close()"
   ]
  },
  {
   "cell_type": "code",
   "execution_count": 63,
   "metadata": {},
   "outputs": [
    {
     "ename": "SyntaxError",
     "evalue": "invalid syntax (<ipython-input-63-4264a1684d23>, line 12)",
     "output_type": "error",
     "traceback": [
      "\u001b[1;36m  File \u001b[1;32m\"<ipython-input-63-4264a1684d23>\"\u001b[1;36m, line \u001b[1;32m12\u001b[0m\n\u001b[1;33m    tables_returned = list[x[0] for x in cur.fetchall()]\u001b[0m\n\u001b[1;37m                                  ^\u001b[0m\n\u001b[1;31mSyntaxError\u001b[0m\u001b[1;31m:\u001b[0m invalid syntax\n"
     ]
    }
   ],
   "source": [
    "tables = ('tickers', 'stockdata')\n",
    "SQL_check = f\"\"\"\n",
    "                    SELECT tablename\n",
    "                    FROM pg_catalog.pg_tables\n",
    "                    WHERE schemaname != 'pg_catalog' \n",
    "                    AND schemaname != 'information_schema'\n",
    "                    AND tablename IN {tables};\n",
    "                    \"\"\"\n",
    "\n",
    "cur.execute(SQL_check, conn)\n",
    "#tables_returned = cur.fetchall()\n",
    "tables_returned = [x[0] for x in cur.fetchall()]\n",
    "print(tables_returned)"
   ]
  },
  {
   "cell_type": "code",
   "execution_count": null,
   "metadata": {},
   "outputs": [],
   "source": []
  }
 ],
 "metadata": {
  "kernelspec": {
   "display_name": ".venv",
   "language": "python",
   "name": ".venv"
  },
  "language_info": {
   "codemirror_mode": {
    "name": "ipython",
    "version": 3
   },
   "file_extension": ".py",
   "mimetype": "text/x-python",
   "name": "python",
   "nbconvert_exporter": "python",
   "pygments_lexer": "ipython3",
   "version": "3.7.3"
  }
 },
 "nbformat": 4,
 "nbformat_minor": 4
}
